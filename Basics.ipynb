{
 "cells": [
  {
   "cell_type": "markdown",
   "id": "153319fb-f4e3-4e9a-8dda-a8e8ff835469",
   "metadata": {},
   "source": [
    "# Basics Of `Python`Coding\n",
    "\n",
    "In this notebook we will explain basics `python` for Machine Learning."
   ]
  },
  {
   "cell_type": "markdown",
   "id": "191a181f-2614-46cc-b09b-c54422111e88",
   "metadata": {},
   "source": [
    "## Derived datatypes in `Python`"
   ]
  },
  {
   "cell_type": "markdown",
   "id": "acec1400-ad07-477a-9a1f-7f8be2def61d",
   "metadata": {},
   "source": [
    ">**NOTE:** in Python `int`,`float`,`str` etc are atomic datatypes and no declaration is required."
   ]
  },
  {
   "cell_type": "markdown",
   "id": "fa3939ec-86c9-423c-94bf-ca6de94746ef",
   "metadata": {},
   "source": [
    "## LIST"
   ]
  },
  {
   "cell_type": "code",
   "execution_count": null,
   "id": "18d0d7fe-5c75-4788-904d-216ac8f72035",
   "metadata": {},
   "outputs": [],
   "source": []
  },
  {
   "cell_type": "code",
   "execution_count": 1,
   "id": "1728957c-d2d0-4a61-8d45-7422e28b06bd",
   "metadata": {},
   "outputs": [],
   "source": [
    "my_list=[1,2,3]"
   ]
  },
  {
   "cell_type": "code",
   "execution_count": 2,
   "id": "dbf25b4b-8d8c-4250-9689-70e4bebe9612",
   "metadata": {},
   "outputs": [
    {
     "data": {
      "text/plain": [
       "[1, 2, 3]"
      ]
     },
     "execution_count": 2,
     "metadata": {},
     "output_type": "execute_result"
    }
   ],
   "source": [
    "my_list"
   ]
  },
  {
   "cell_type": "code",
   "execution_count": 3,
   "id": "83b99873-e68a-4cef-81d2-e0d09c7a1a01",
   "metadata": {},
   "outputs": [],
   "source": [
    "my_list=[1,'a',3]"
   ]
  },
  {
   "cell_type": "code",
   "execution_count": 4,
   "id": "e8cec0b3-93cb-48c1-9c66-783205687c27",
   "metadata": {},
   "outputs": [
    {
     "data": {
      "text/plain": [
       "[1, 'a', 3]"
      ]
     },
     "execution_count": 4,
     "metadata": {},
     "output_type": "execute_result"
    }
   ],
   "source": [
    "my_list"
   ]
  },
  {
   "cell_type": "code",
   "execution_count": 5,
   "id": "886cae7e-9c00-42c3-88c0-de17a54f7d32",
   "metadata": {},
   "outputs": [
    {
     "data": {
      "text/plain": [
       "1"
      ]
     },
     "execution_count": 5,
     "metadata": {},
     "output_type": "execute_result"
    }
   ],
   "source": [
    "my_list[0]"
   ]
  },
  {
   "cell_type": "code",
   "execution_count": 6,
   "id": "44c97b30-e80b-47a1-9062-850eead0e4be",
   "metadata": {},
   "outputs": [
    {
     "data": {
      "text/plain": [
       "3"
      ]
     },
     "execution_count": 6,
     "metadata": {},
     "output_type": "execute_result"
    }
   ],
   "source": [
    "my_list[2]"
   ]
  },
  {
   "cell_type": "code",
   "execution_count": 11,
   "id": "104a7e75-8b07-484b-aded-bedef8b94815",
   "metadata": {},
   "outputs": [],
   "source": [
    "my_list=[1,2,[100,200]]"
   ]
  },
  {
   "cell_type": "code",
   "execution_count": 8,
   "id": "ca921f26-4b2c-4563-8618-64ea131302e0",
   "metadata": {},
   "outputs": [],
   "source": [
    "my_list=[1,2,[100,200]]"
   ]
  },
  {
   "cell_type": "code",
   "execution_count": 9,
   "id": "7366cf2b-12d7-41cb-a109-97f2a8ae053c",
   "metadata": {},
   "outputs": [
    {
     "data": {
      "text/plain": [
       "[1, 2, [100, 200]]"
      ]
     },
     "execution_count": 9,
     "metadata": {},
     "output_type": "execute_result"
    }
   ],
   "source": [
    "my_list"
   ]
  },
  {
   "cell_type": "code",
   "execution_count": 12,
   "id": "6ba50313-e5c6-4d3b-aff2-fc3536d2bc3e",
   "metadata": {},
   "outputs": [],
   "source": [
    "my_list=['a','b','c','d']"
   ]
  },
  {
   "cell_type": "code",
   "execution_count": 13,
   "id": "9c34bd0c-96ff-4ad4-a9e6-f5a3479ef134",
   "metadata": {},
   "outputs": [
    {
     "data": {
      "text/plain": [
       "['a', 'b', 'c', 'd']"
      ]
     },
     "execution_count": 13,
     "metadata": {},
     "output_type": "execute_result"
    }
   ],
   "source": [
    "my_list"
   ]
  },
  {
   "cell_type": "code",
   "execution_count": 14,
   "id": "f4eac9ff-746c-4eff-8152-b87757c1d80f",
   "metadata": {},
   "outputs": [
    {
     "data": {
      "text/plain": [
       "['a', 'b']"
      ]
     },
     "execution_count": 14,
     "metadata": {},
     "output_type": "execute_result"
    }
   ],
   "source": [
    "my_list[:2]"
   ]
  },
  {
   "cell_type": "code",
   "execution_count": 15,
   "id": "4f323ced-7f52-4366-919b-fea6a084a5e0",
   "metadata": {},
   "outputs": [
    {
     "data": {
      "text/plain": [
       "['a']"
      ]
     },
     "execution_count": 15,
     "metadata": {},
     "output_type": "execute_result"
    }
   ],
   "source": [
    "my_list[:1]"
   ]
  },
  {
   "cell_type": "code",
   "execution_count": 16,
   "id": "30b08356-63f6-4e0d-9166-f014eecf3141",
   "metadata": {},
   "outputs": [
    {
     "data": {
      "text/plain": [
       "['b', 'c', 'd']"
      ]
     },
     "execution_count": 16,
     "metadata": {},
     "output_type": "execute_result"
    }
   ],
   "source": [
    "my_list[1:]"
   ]
  },
  {
   "cell_type": "code",
   "execution_count": 17,
   "id": "5fa308b4-1c57-463f-b002-0eb5fd0f5bbf",
   "metadata": {},
   "outputs": [
    {
     "data": {
      "text/plain": [
       "['d', 'c', 'b', 'a']"
      ]
     },
     "execution_count": 17,
     "metadata": {},
     "output_type": "execute_result"
    }
   ],
   "source": [
    "my_list[::-1]"
   ]
  },
  {
   "cell_type": "code",
   "execution_count": 18,
   "id": "55524b95-1c1f-4890-a91c-dd8e3c84538d",
   "metadata": {},
   "outputs": [
    {
     "data": {
      "text/plain": [
       "['a', 'd']"
      ]
     },
     "execution_count": 18,
     "metadata": {},
     "output_type": "execute_result"
    }
   ],
   "source": [
    "my_list[::3]"
   ]
  },
  {
   "cell_type": "code",
   "execution_count": 19,
   "id": "09b1994c-7669-410a-af00-7985d8229c98",
   "metadata": {},
   "outputs": [],
   "source": [
    "my_list[0]='new'"
   ]
  },
  {
   "cell_type": "code",
   "execution_count": 20,
   "id": "5244c3b6-bbb1-4a27-a11b-1c49f5d50383",
   "metadata": {},
   "outputs": [
    {
     "data": {
      "text/plain": [
       "['new', 'b', 'c', 'd']"
      ]
     },
     "execution_count": 20,
     "metadata": {},
     "output_type": "execute_result"
    }
   ],
   "source": [
    "my_list"
   ]
  },
  {
   "cell_type": "markdown",
   "id": "27c65c8a-5c5c-406c-a6e4-02197586bb2f",
   "metadata": {},
   "source": [
    "## Tuple"
   ]
  },
  {
   "cell_type": "code",
   "execution_count": 21,
   "id": "e184c1ec-ff20-4afc-8f7f-f8c2dbcb1dc3",
   "metadata": {},
   "outputs": [],
   "source": [
    "t=(1,2,3)"
   ]
  },
  {
   "cell_type": "code",
   "execution_count": 22,
   "id": "27f38f1a-06fb-4e9d-9394-d57423247b1b",
   "metadata": {},
   "outputs": [
    {
     "data": {
      "text/plain": [
       "(1, 2, 3)"
      ]
     },
     "execution_count": 22,
     "metadata": {},
     "output_type": "execute_result"
    }
   ],
   "source": [
    "t"
   ]
  },
  {
   "cell_type": "code",
   "execution_count": 23,
   "id": "7cdb197e-0e8e-4b20-9cb4-5f1d941f07c9",
   "metadata": {},
   "outputs": [
    {
     "ename": "SyntaxError",
     "evalue": "cannot assign to function call (2046451351.py, line 1)",
     "output_type": "error",
     "traceback": [
      "\u001b[0;36m  Cell \u001b[0;32mIn[23], line 1\u001b[0;36m\u001b[0m\n\u001b[0;31m    t(0)='new'\u001b[0m\n\u001b[0m    ^\u001b[0m\n\u001b[0;31mSyntaxError\u001b[0m\u001b[0;31m:\u001b[0m cannot assign to function call\n"
     ]
    }
   ],
   "source": [
    "t(0)='new'"
   ]
  },
  {
   "cell_type": "markdown",
   "id": "82a09ca1-ed8c-45bb-b1bd-d983f57499a2",
   "metadata": {},
   "source": [
    "## Dictionary"
   ]
  },
  {
   "cell_type": "code",
   "execution_count": 24,
   "id": "3df37a25-780b-4561-8c99-421131535f28",
   "metadata": {},
   "outputs": [],
   "source": [
    "d={'name':'akshara','age':20}"
   ]
  },
  {
   "cell_type": "code",
   "execution_count": 25,
   "id": "b8585ed8-fe7e-4999-8128-1136c4ff4185",
   "metadata": {},
   "outputs": [
    {
     "data": {
      "text/plain": [
       "{'name': 'akshara', 'age': 20}"
      ]
     },
     "execution_count": 25,
     "metadata": {},
     "output_type": "execute_result"
    }
   ],
   "source": [
    "d"
   ]
  },
  {
   "cell_type": "code",
   "execution_count": 26,
   "id": "6a2dd8a9-62c1-4e60-807d-0d2e2bcdee03",
   "metadata": {},
   "outputs": [
    {
     "data": {
      "text/plain": [
       "'akshara'"
      ]
     },
     "execution_count": 26,
     "metadata": {},
     "output_type": "execute_result"
    }
   ],
   "source": [
    "d['name']"
   ]
  },
  {
   "cell_type": "code",
   "execution_count": 27,
   "id": "c8623dfa-1357-4d90-9873-b1f603007831",
   "metadata": {},
   "outputs": [
    {
     "data": {
      "text/plain": [
       "20"
      ]
     },
     "execution_count": 27,
     "metadata": {},
     "output_type": "execute_result"
    }
   ],
   "source": [
    "d['age']"
   ]
  },
  {
   "cell_type": "markdown",
   "id": "e72000ae-4576-4e34-af56-0596c58903d8",
   "metadata": {},
   "source": [
    "## length"
   ]
  },
  {
   "cell_type": "code",
   "execution_count": 28,
   "id": "c78f0c13-b25c-4639-8258-9785784d76a6",
   "metadata": {},
   "outputs": [
    {
     "data": {
      "text/plain": [
       "2"
      ]
     },
     "execution_count": 28,
     "metadata": {},
     "output_type": "execute_result"
    }
   ],
   "source": [
    "len(d)"
   ]
  },
  {
   "cell_type": "markdown",
   "id": "67850913-6951-4fe6-b0d1-d24b7a4b9ac4",
   "metadata": {},
   "source": [
    "## set"
   ]
  },
  {
   "cell_type": "code",
   "execution_count": 29,
   "id": "94663438-6697-46cd-887f-9af2e1482b53",
   "metadata": {},
   "outputs": [
    {
     "data": {
      "text/plain": [
       "{1, 2, 3, 4, 5}"
      ]
     },
     "execution_count": 29,
     "metadata": {},
     "output_type": "execute_result"
    }
   ],
   "source": [
    "{1,1,2,3,4,2,1,4,4,2,5,3,5}"
   ]
  },
  {
   "cell_type": "code",
   "execution_count": 30,
   "id": "0880ce49-25e9-43de-8c7a-9f988b08f492",
   "metadata": {},
   "outputs": [],
   "source": [
    "def times2(var):\n",
    "    return var*2"
   ]
  },
  {
   "cell_type": "code",
   "execution_count": 33,
   "id": "4fba6973-122f-47e8-93d0-4e25f7043e2c",
   "metadata": {},
   "outputs": [
    {
     "data": {
      "text/plain": [
       "4"
      ]
     },
     "execution_count": 33,
     "metadata": {},
     "output_type": "execute_result"
    }
   ],
   "source": [
    "times2(2)"
   ]
  },
  {
   "cell_type": "code",
   "execution_count": 32,
   "id": "4b9fc8d3-a3ef-4d2e-87d0-ee47422078d0",
   "metadata": {},
   "outputs": [
    {
     "data": {
      "text/plain": [
       "4"
      ]
     },
     "execution_count": 32,
     "metadata": {},
     "output_type": "execute_result"
    }
   ],
   "source": [
    "times2(2)"
   ]
  },
  {
   "cell_type": "code",
   "execution_count": 35,
   "id": "547de35b-c6e0-4460-9393-24e3b9bd5bc9",
   "metadata": {},
   "outputs": [],
   "source": [
    "times2=lambda var:var*2"
   ]
  },
  {
   "cell_type": "code",
   "execution_count": 36,
   "id": "2e6dc9ef-f011-4ddb-8ce2-839be6abf8a9",
   "metadata": {},
   "outputs": [
    {
     "name": "stdout",
     "output_type": "stream",
     "text": [
      "6\n"
     ]
    }
   ],
   "source": [
    "print(times2(3))"
   ]
  },
  {
   "cell_type": "code",
   "execution_count": 37,
   "id": "b5cf5559-af09-420a-8e99-cd3a366ee943",
   "metadata": {},
   "outputs": [],
   "source": [
    "x=[1,2,3,4]"
   ]
  },
  {
   "cell_type": "code",
   "execution_count": 39,
   "id": "e60c48e5-d4f6-49b3-b149-e3b31c132e58",
   "metadata": {},
   "outputs": [
    {
     "name": "stdout",
     "output_type": "stream",
     "text": [
      "[1, 4, 9, 16]\n"
     ]
    }
   ],
   "source": [
    "out=[]\n",
    "for item in x:\n",
    "    out.append(item**2)\n",
    "print(out)"
   ]
  },
  {
   "cell_type": "code",
   "execution_count": 40,
   "id": "4c124985-76d9-4bbb-8f96-cb840d79cc86",
   "metadata": {},
   "outputs": [
    {
     "data": {
      "text/plain": [
       "[1, 4, 9, 16]"
      ]
     },
     "execution_count": 40,
     "metadata": {},
     "output_type": "execute_result"
    }
   ],
   "source": [
    "[item**2 for item in x]"
   ]
  },
  {
   "cell_type": "code",
   "execution_count": 44,
   "id": "dda2a0e7-fd5e-44ee-a76a-c73dfff72eb7",
   "metadata": {},
   "outputs": [
    {
     "name": "stdout",
     "output_type": "stream",
     "text": [
      "my name is:akshara and my number is:10\n"
     ]
    }
   ],
   "source": [
    "print(\"my name is:{0} and my number is:{1}\".format('akshara',10))"
   ]
  },
  {
   "cell_type": "code",
   "execution_count": 45,
   "id": "5ad220c4-af63-4f81-9fb7-552ba1cd4113",
   "metadata": {},
   "outputs": [],
   "source": [
    "x='hello'"
   ]
  },
  {
   "cell_type": "code",
   "execution_count": 46,
   "id": "5755acd3-2003-4735-9548-44c97104b6f3",
   "metadata": {},
   "outputs": [
    {
     "name": "stdout",
     "output_type": "stream",
     "text": [
      "hello\n"
     ]
    }
   ],
   "source": [
    "print(x)"
   ]
  },
  {
   "cell_type": "code",
   "execution_count": 47,
   "id": "23f156f5-01fa-4e73-9ddf-678aa40014db",
   "metadata": {},
   "outputs": [],
   "source": [
    "num=12\n",
    "nmae='sami'"
   ]
  },
  {
   "cell_type": "code",
   "execution_count": null,
   "id": "f014ca32-9dfc-439b-8d51-3d79efdb7707",
   "metadata": {},
   "outputs": [],
   "source": []
  }
 ],
 "metadata": {
  "kernelspec": {
   "display_name": "Python 3 (Intel® oneAPI 2023.2)",
   "language": "python",
   "name": "c009-intel_distribution_of_python_3_oneapi-beta05-python"
  },
  "language_info": {
   "codemirror_mode": {
    "name": "ipython",
    "version": 3
   },
   "file_extension": ".py",
   "mimetype": "text/x-python",
   "name": "python",
   "nbconvert_exporter": "python",
   "pygments_lexer": "ipython3",
   "version": "3.9.16"
  }
 },
 "nbformat": 4,
 "nbformat_minor": 5
}
